{
 "cells": [
  {
   "cell_type": "code",
   "execution_count": 1,
   "id": "6f0a24d5-b19b-4dd9-9760-efcf3575be7a",
   "metadata": {},
   "outputs": [],
   "source": [
    "import pandas as pd\n",
    "import numpy as np"
   ]
  },
  {
   "cell_type": "code",
   "execution_count": 5,
   "id": "5a2021fa-cc3e-4bdc-81c3-81c51b2b60c7",
   "metadata": {},
   "outputs": [
    {
     "name": "stderr",
     "output_type": "stream",
     "text": [
      "/usr/scratch/charles/.conda/envs/lite/lib/python3.7/site-packages/ipykernel_launcher.py:3: FutureWarning: Value based partial slicing on non-monotonic DatetimeIndexes with non-existing keys is deprecated and will raise a KeyError in a future Version.\n",
      "  This is separate from the ipykernel package so we can avoid doing imports until\n"
     ]
    },
    {
     "data": {
      "text/html": [
       "<div>\n",
       "<style scoped>\n",
       "    .dataframe tbody tr th:only-of-type {\n",
       "        vertical-align: middle;\n",
       "    }\n",
       "\n",
       "    .dataframe tbody tr th {\n",
       "        vertical-align: top;\n",
       "    }\n",
       "\n",
       "    .dataframe thead th {\n",
       "        text-align: right;\n",
       "    }\n",
       "</style>\n",
       "<table border=\"1\" class=\"dataframe\">\n",
       "  <thead>\n",
       "    <tr style=\"text-align: right;\">\n",
       "      <th></th>\n",
       "      <th>V RMSE (km/s)</th>\n",
       "      <th>Bz RMSE (nT)</th>\n",
       "      <th>n RMSE (n/cm^3)</th>\n",
       "      <th># Samples</th>\n",
       "    </tr>\n",
       "  </thead>\n",
       "  <tbody>\n",
       "    <tr>\n",
       "      <th>Fold 1</th>\n",
       "      <td>78.48</td>\n",
       "      <td>2.88</td>\n",
       "      <td>5.29</td>\n",
       "      <td>11838</td>\n",
       "    </tr>\n",
       "    <tr>\n",
       "      <th>Fold 2</th>\n",
       "      <td>76.87</td>\n",
       "      <td>2.72</td>\n",
       "      <td>4.87</td>\n",
       "      <td>10258</td>\n",
       "    </tr>\n",
       "    <tr>\n",
       "      <th>Fold 3</th>\n",
       "      <td>73.17</td>\n",
       "      <td>3.02</td>\n",
       "      <td>5.37</td>\n",
       "      <td>11107</td>\n",
       "    </tr>\n",
       "    <tr>\n",
       "      <th>Fold 4</th>\n",
       "      <td>77.29</td>\n",
       "      <td>2.86</td>\n",
       "      <td>5.22</td>\n",
       "      <td>10548</td>\n",
       "    </tr>\n",
       "    <tr>\n",
       "      <th>Fold 5</th>\n",
       "      <td>77.82</td>\n",
       "      <td>2.91</td>\n",
       "      <td>4.77</td>\n",
       "      <td>10218</td>\n",
       "    </tr>\n",
       "    <tr>\n",
       "      <th>All test data</th>\n",
       "      <td>76.75</td>\n",
       "      <td>2.88</td>\n",
       "      <td>5.12</td>\n",
       "      <td>53969</td>\n",
       "    </tr>\n",
       "  </tbody>\n",
       "</table>\n",
       "</div>"
      ],
      "text/plain": [
       "               V RMSE (km/s)  Bz RMSE (nT)  n RMSE (n/cm^3) # Samples\n",
       "Fold 1                 78.48          2.88             5.29     11838\n",
       "Fold 2                 76.87          2.72             4.87     10258\n",
       "Fold 3                 73.17          3.02             5.37     11107\n",
       "Fold 4                 77.29          2.86             5.22     10548\n",
       "Fold 5                 77.82          2.91             4.77     10218\n",
       "All test data          76.75          2.88             5.12     53969"
      ]
     },
     "execution_count": 5,
     "metadata": {},
     "output_type": "execute_result"
    }
   ],
   "source": [
    "icmes = pd.read_csv('icmes.csv', index_col=0, parse_dates=True)\n",
    "icmes = icmes.sort_index()\n",
    "icmes = icmes.loc['May 2010':]\n",
    "\n",
    "predictionData = pd.read_csv('prediction_data.csv', index_col=0, parse_dates=True)\n",
    "predictionData = predictionData[~predictionData.index.duplicated()].sort_index()\n",
    "\n",
    "results = pd.DataFrame(columns = ['V RMSE (km/s)', 'Bz RMSE (nT)', 'n RMSE (n/cm^3)', '# Samples'])\n",
    "for fold in range(1, 5 + 1):\n",
    "    fold_data = predictionData[predictionData.Fold == fold]\n",
    "    Vmse = np.sqrt(np.mean((fold_data['V'] - fold_data['V_pred'])**2))\n",
    "    Bzmse = np.sqrt(np.mean((fold_data['Bz'] - fold_data['Bz_pred'])**2))\n",
    "    nmse = np.sqrt(np.mean((fold_data['n'] - fold_data['n_pred'])**2))\n",
    "    \n",
    "    results.loc[f'Fold {fold}'] = {'V RMSE (km/s)':Vmse, 'Bz RMSE (nT)':Bzmse, 'n RMSE (n/cm^3)':nmse, '# Samples':len(fold_data)}\n",
    "    \n",
    "Vmse = np.sqrt(np.mean((predictionData['V'] - predictionData['V_pred'])**2))\n",
    "Bzmse = np.sqrt(np.mean((predictionData['Bz'] - predictionData['Bz_pred'])**2))\n",
    "nmse = np.sqrt(np.mean((predictionData['n'] - predictionData['n_pred'])**2))\n",
    "\n",
    "results.loc['All test data'] = {'V RMSE (km/s)':Vmse, 'Bz RMSE (nT)':Bzmse, 'n RMSE (n/cm^3)':nmse, '# Samples':len(predictionData)}\n",
    "\n",
    "results.round(2)"
   ]
  }
 ],
 "metadata": {
  "kernelspec": {
   "display_name": "Python 3 (ipykernel)",
   "language": "python",
   "name": "python3"
  },
  "language_info": {
   "codemirror_mode": {
    "name": "ipython",
    "version": 3
   },
   "file_extension": ".py",
   "mimetype": "text/x-python",
   "name": "python",
   "nbconvert_exporter": "python",
   "pygments_lexer": "ipython3",
   "version": "3.7.11"
  }
 },
 "nbformat": 4,
 "nbformat_minor": 5
}
